{
 "cells": [
  {
   "cell_type": "markdown",
   "id": "0d49ec0a",
   "metadata": {},
   "source": [
    "### Helmholz"
   ]
  },
  {
   "cell_type": "code",
   "execution_count": null,
   "id": "afc7b1ca",
   "metadata": {},
   "outputs": [],
   "source": [
    "from tmm.tmm import TMM\n",
    "\n",
    "class TMM(TMM):\n",
    "    def helmholtz_layer(self, t=19, d=8, s=16, open_area=None, rho=None, end_correction=\"jb\", method=\"barrier\",\n",
    "                               layer=None):\n",
    "        if layer is None:\n",
    "            layer = len(self.matrix)\n",
    "\n",
    "\n",
    "        # WIP, disregard for now\n",
    "        self.matrix[layer] = {\"type\": \"perforated_panel_layer\",\n",
    "                              \"thickness [mm]\": t,\n",
    "                              \"hole_diameter [mm]\": d,\n",
    "                              \"hole_spacing [mm]\": s,\n",
    "                              \"open_area [%]\": open_area * 100,\n",
    "                              \"end_correction\": end_correction,\n",
    "                              \"rho [kg/m3]\": rho,\n",
    "                              \"method\": method,\n",
    "                              \"matrix\": Tp,\n",
    "                              }"
   ]
  },
  {
   "cell_type": "markdown",
   "id": "6227ba63",
   "metadata": {},
   "source": [
    "### Placa perfurada"
   ]
  },
  {
   "cell_type": "code",
   "execution_count": null,
   "id": "4ba68632",
   "metadata": {},
   "outputs": [],
   "source": [
    "# Define the frequency range, resolution and sound incidence\n",
    "treatment = TMM(fmin=20, fmax=5000, df=1, incidence=\"diffuse\", incidence_angle=[0, 78, 1],\n",
    "                filename=\"placa_perfurada\")\n",
    "\n",
    "# Define the layers - from top to bottom\n",
    "treatment.perforated_panel_layer(t=19, d=8, s=24, method=\"eq_fluid\") # Use Zwikker&Kosten method\n",
    "treatment.porous_layer(model=\"mac\", t=50, sigma=27) # Allard-Champoux model\n",
    "treatment.air_layer(t=50)\n",
    "\n",
    "# Compute, plot and export data\n",
    "treatment.compute(rigid_backing=True, show_layers=True)\n",
    "treatment.plot(plots=[\"alpha\"], save_fig=True)\n",
    "treatment.save2sheet(n_oct=3)\n",
    "treatment.save()\n",
    "bands, filtered_alpha = treatment.filter_alpha(view=True, n_oct=3)"
   ]
  }
 ],
 "metadata": {
  "kernelspec": {
   "display_name": ".venv",
   "language": "python",
   "name": "python3"
  },
  "language_info": {
   "codemirror_mode": {
    "name": "ipython",
    "version": 3
   },
   "file_extension": ".py",
   "mimetype": "text/x-python",
   "name": "python",
   "nbconvert_exporter": "python",
   "pygments_lexer": "ipython3",
   "version": "3.13.2"
  }
 },
 "nbformat": 4,
 "nbformat_minor": 5
}
